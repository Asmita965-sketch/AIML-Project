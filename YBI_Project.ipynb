{
 "cells": [
  {
   "cell_type": "code",
   "execution_count": 18,
   "id": "0f32f837",
   "metadata": {},
   "outputs": [
    {
     "name": "stdout",
     "output_type": "stream",
     "text": [
      "   season team1 team2 winner       city player_of_match  runs_scored\n",
      "0    2023    MI   CSK     MI     Mumbai    Rohit Sharma          160\n",
      "1    2023   CSK   RCB    CSK    Chennai        MS Dhoni          180\n",
      "2    2023   RCB    MI     MI  Bangalore     Virat Kohli          175\n",
      "3    2022    MI   KKR     MI    Kolkata  Jasprit Bumrah          150\n",
      "4    2022   KKR   CSK    KKR    Chennai   Andre Russell          200\n",
      "<class 'pandas.core.frame.DataFrame'>\n",
      "RangeIndex: 9 entries, 0 to 8\n",
      "Data columns (total 7 columns):\n",
      " #   Column           Non-Null Count  Dtype \n",
      "---  ------           --------------  ----- \n",
      " 0   season           9 non-null      int64 \n",
      " 1   team1            9 non-null      object\n",
      " 2   team2            9 non-null      object\n",
      " 3   winner           9 non-null      object\n",
      " 4   city             9 non-null      object\n",
      " 5   player_of_match  9 non-null      object\n",
      " 6   runs_scored      9 non-null      int64 \n",
      "dtypes: int64(2), object(5)\n",
      "memory usage: 636.0+ bytes\n",
      "None\n",
      "\n",
      "Team wins: \n",
      " MI     4\n",
      "CSK    2\n",
      "KKR    1\n",
      "DC     1\n",
      "RCB    1\n",
      "Name: winner, dtype: int64\n",
      "\n",
      "Player of the Match Counts:\n",
      " Rohit Sharma       1\n",
      "MS Dhoni           1\n",
      "Virat Kohli        1\n",
      "Jasprit Bumrah     1\n",
      "Andre Russell      1\n",
      "Ravindra Jadeja    1\n",
      "Rishabh Pant       1\n",
      "AB de Villiers     1\n",
      "Kieron Pollard     1\n",
      "Name: player_of_match, dtype: int64\n"
     ]
    }
   ],
   "source": [
    "import pandas as pd\n",
    "\n",
    "import matplotlib.pyplot as plt\n",
    "\n",
    "import seaborn as sns\n",
    "\n",
    "#Sample IPL Data (You'll need a more comprehensive dataset for real analysis)\n",
    "\n",
    "data = {\n",
    "\n",
    "'season': [2023, 2023, 2023, 2022, 2022, 2022, 2021, 2021, 2021],\n",
    "\n",
    "'team1': ['MI', 'CSK', 'RCB', 'MI', 'KKR', 'CSK', ' DC', 'RCB', 'MI'],\n",
    "\n",
    "'team2': ['CSK', 'RCB', 'MI', 'KKR', 'CSK', 'MI', 'MI', 'CSK', 'KKR'],\n",
    "\n",
    "'winner': ['MI', 'CSK', 'MI', 'MI', 'KKR', 'CSK', 'DC', 'RCB', 'MI'],\n",
    "\n",
    "'city': ['Mumbai', 'Chennai', 'Bangalore', 'Kolkata', 'Chennai', 'Mumbai', 'Delhi', 'Bangalore', 'Kolkata'],\n",
    "\n",
    "'player_of_match': ['Rohit Sharma', 'MS Dhoni', 'Virat Kohli', 'Jasprit Bumrah', 'Andre Russell', 'Ravindra Jadeja', 'Rishabh Pant', 'AB de Villiers', 'Kieron Pollard'],\n",
    "\n",
    "'runs_scored' : [160, 180, 175, 150, 200, 190, 170, 185, 165],\n",
    "}\n",
    "\n",
    "ipl_df=pd.DataFrame (data)\n",
    "\n",
    "\n",
    "\n",
    "\n",
    "\n",
    "\n"
   ]
  },
  {
   "cell_type": "code",
   "execution_count": 21,
   "id": "ecb22115",
   "metadata": {},
   "outputs": [
    {
     "name": "stdout",
     "output_type": "stream",
     "text": [
      "   season team1 team2 winner       city player_of_match  runs_scored\n",
      "0    2023    MI   CSK     MI     Mumbai    Rohit Sharma          160\n",
      "1    2023   CSK   RCB    CSK    Chennai        MS Dhoni          180\n",
      "2    2023   RCB    MI     MI  Bangalore     Virat Kohli          175\n",
      "3    2022    MI   KKR     MI    Kolkata  Jasprit Bumrah          150\n",
      "4    2022   KKR   CSK    KKR    Chennai   Andre Russell          200\n",
      "<class 'pandas.core.frame.DataFrame'>\n",
      "RangeIndex: 9 entries, 0 to 8\n",
      "Data columns (total 7 columns):\n",
      " #   Column           Non-Null Count  Dtype \n",
      "---  ------           --------------  ----- \n",
      " 0   season           9 non-null      int64 \n",
      " 1   team1            9 non-null      object\n",
      " 2   team2            9 non-null      object\n",
      " 3   winner           9 non-null      object\n",
      " 4   city             9 non-null      object\n",
      " 5   player_of_match  9 non-null      object\n",
      " 6   runs_scored      9 non-null      int64 \n",
      "dtypes: int64(2), object(5)\n",
      "memory usage: 636.0+ bytes\n",
      "None\n"
     ]
    }
   ],
   "source": [
    "#1. Basic Data Exploration\n",
    "\n",
    "print(ipl_df.head())\n",
    "\n",
    "# View the first few rows\n",
    "\n",
    "print(ipl_df.info())\n",
    "\n",
    "# Get information about columns and data types\n",
    "\n"
   ]
  },
  {
   "cell_type": "code",
   "execution_count": 22,
   "id": "166a7345",
   "metadata": {},
   "outputs": [
    {
     "name": "stdout",
     "output_type": "stream",
     "text": [
      "\n",
      "Team wins: \n",
      " MI     4\n",
      "CSK    2\n",
      "KKR    1\n",
      "DC     1\n",
      "RCB    1\n",
      "Name: winner, dtype: int64\n"
     ]
    }
   ],
   "source": [
    "#2. Team Performance\n",
    "\n",
    "team_wins=ipl_df['winner'].value_counts()\n",
    "\n",
    "print(\"\\nTeam wins: \\n\", team_wins)"
   ]
  },
  {
   "cell_type": "code",
   "execution_count": 23,
   "id": "d9ac747c",
   "metadata": {},
   "outputs": [
    {
     "name": "stdout",
     "output_type": "stream",
     "text": [
      "\n",
      "Player of the Match Counts:\n",
      " Rohit Sharma       1\n",
      "MS Dhoni           1\n",
      "Virat Kohli        1\n",
      "Jasprit Bumrah     1\n",
      "Andre Russell      1\n",
      "Ravindra Jadeja    1\n",
      "Rishabh Pant       1\n",
      "AB de Villiers     1\n",
      "Kieron Pollard     1\n",
      "Name: player_of_match, dtype: int64\n"
     ]
    }
   ],
   "source": [
    "#3. Player of the Match Analysis\n",
    "\n",
    "player_of_match_counts=ipl_df['player_of_match'].value_counts()\n",
    "\n",
    "print(\"\\nPlayer of the Match Counts:\\n\", player_of_match_counts)\n"
   ]
  },
  {
   "cell_type": "code",
   "execution_count": 24,
   "id": "fff6c640",
   "metadata": {},
   "outputs": [
    {
     "name": "stdout",
     "output_type": "stream",
     "text": [
      "\n",
      "Average Runs Scored per Match: 175.0\n"
     ]
    }
   ],
   "source": [
    "#4. Runs Scored Analysis\n",
    "\n",
    "average_runs_per_match = ipl_df['runs_scored'].mean()\n",
    "\n",
    "print(\"\\nAverage Runs Scored per Match:\", average_runs_per_match)"
   ]
  },
  {
   "cell_type": "code",
   "execution_count": 27,
   "id": "f08334d9",
   "metadata": {},
   "outputs": [
    {
     "data": {
      "image/png": "[encoded data removed]",
      "text/plain": [
       "<Figure size 1000x600 with 1 Axes>"
      ]
     },
     "metadata": {},
     "output_type": "display_data"
    }
   ],
   "source": [
    "#1. Bar Chart of Team Wins\n",
    "\n",
    "plt.figure(figsize=(10, 6))\n",
    "\n",
    "sns.countplot(x='winner', data=ipl_df)\n",
    "\n",
    "plt.title('Number of Wins by Team')\n",
    "\n",
    "plt.xlabel('Team')\n",
    "\n",
    "plt.ylabel(\"Number of Wins\")\n",
    "\n",
    "plt.show()"
   ]
  },
  {
   "cell_type": "code",
   "execution_count": 29,
   "id": "6385b030",
   "metadata": {},
   "outputs": [
    {
     "data": {
      "image/png": "[encoded data removed]",
      "text/plain": [
       "<Figure size 800x500 with 1 Axes>"
      ]
     },
     "metadata": {},
     "output_type": "display_data"
    }
   ],
   "source": [
    "#2. Histogram of Runs Scored\n",
    "\n",
    "plt.figure(figsize=(8, 5))\n",
    "\n",
    "plt.hist(ipl_df['runs_scored'], bins=8)\n",
    "\n",
    "plt.title('Distribution of Runs Scored per Match')\n",
    "\n",
    "plt.xlabel('Runs Scored')\n",
    "\n",
    "plt.ylabel('Frequency')\n",
    "\n",
    "plt.show()"
   ]
  },
  {
   "cell_type": "code",
   "execution_count": null,
   "id": "c8e8aaec",
   "metadata": {},
   "outputs": [],
   "source": []
  }
 ],
 "metadata": {
  "kernelspec": {
   "display_name": "Python 3 (ipykernel)",
   "language": "python",
   "name": "python3"
  },
  "language_info": {
   "codemirror_mode": {
    "name": "ipython",
    "version": 3
   },
   "file_extension": ".py",
   "mimetype": "text/x-python",
   "name": "python",
   "nbconvert_exporter": "python",
   "pygments_lexer": "ipython3",
   "version": "3.11.4"
  }
 },
 "nbformat": 4,
 "nbformat_minor": 5
}
